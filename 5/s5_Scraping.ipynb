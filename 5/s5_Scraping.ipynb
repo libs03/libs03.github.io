{
  "cells": [
    {
      "cell_type": "markdown",
      "metadata": {
        "id": "2KNrEFkpxE3M"
      },
      "source": [
        "[![Binder](http://mybinder.org/badge_logo.svg)](https://mybinder.org/v2/gh/EconomicsObservatory/courses/HEAD?labpath=5%2Fs5_Scraping.ipynb)\n",
        "\n",
        "<a href=\"https://colab.research.google.com/github/EconomicsObservatory/courses/blob/main/5/s5_Scraping.ipynb\" target=\"_blank\"><img src=\"https://colab.research.google.com/assets/colab-badge.svg\" alt=\"Open In Colab\"/></a>"
      ]
    },
    {
      "cell_type": "markdown",
      "metadata": {
        "id": "3RUSEHd29h6X"
      },
      "source": [
        "# Scraping the HTML source (advanced)\n",
        "\n",
        "Sometimes we want to access data that isn't as nicely formatted. For example:\n",
        "\n",
        "- **Prices**: you might want data on a type of product or from a shop\n",
        "- **Weather**: maybe you want to automate the collection of weather data from the Met office or weather.com\n",
        "- **News and Media**: Scraping headlines and summaries can tell you about current affairs\n",
        "\n",
        "In this example, we will scrape the Economics Observatory website to collect the latest article names and taglines to tell us about what is being reported.\n",
        "\n",
        "## Investigating the webpage\n",
        "\n",
        "Before writing any code, let's take a look at the webpage.\n",
        "\n",
        "<img\n",
        "style=\"max-height: 250px;\n",
        "    width: auto;\" src=\"https://raw.githubusercontent.com/jhellingsdata/RADataHub/main/misc/Masterclass/section%205/images/eco_website.png\"> </img>\n",
        "\n",
        "We want to extract a list of article titles, such as \"What do we know about labour market power in the UK?\". To do this, we need to know where they appear in the HTML and how they are defined. By using inspect-element (right/ctrl click), we can see the HTML code that creates the titles.\n",
        "\n",
        "<img\n",
        "style=\"max-height: 250px;\n",
        "    width: auto;\" src=\"https://raw.githubusercontent.com/jhellingsdata/RADataHub/main/misc/Masterclass/section%205/images/inspect_element.png\"> </img>\n",
        "\n",
        "Here we can see that article titles have the class \"home__blocks-item-title\". We'll use this information to extract just the article titles.\n",
        "\n",
        "Before we start writing code to scrape, we need to install and load the packages we need."
      ]
    },
    {
      "cell_type": "code",
      "execution_count": 1,
      "metadata": {
        "id": "3fU2ZhsOcJM-",
        "outputId": "6347633b-26ed-4ebc-f897-cf74533a590d",
        "colab": {
          "base_uri": "https://localhost:8080/"
        }
      },
      "outputs": [
        {
          "output_type": "stream",
          "name": "stdout",
          "text": [
            "Requirement already satisfied: pandas in /usr/local/lib/python3.10/dist-packages (1.5.3)\n",
            "Requirement already satisfied: python-dateutil>=2.8.1 in /usr/local/lib/python3.10/dist-packages (from pandas) (2.8.2)\n",
            "Requirement already satisfied: pytz>=2020.1 in /usr/local/lib/python3.10/dist-packages (from pandas) (2023.4)\n",
            "Requirement already satisfied: numpy>=1.21.0 in /usr/local/lib/python3.10/dist-packages (from pandas) (1.25.2)\n",
            "Requirement already satisfied: six>=1.5 in /usr/local/lib/python3.10/dist-packages (from python-dateutil>=2.8.1->pandas) (1.16.0)\n"
          ]
        }
      ],
      "source": [
        "%pip install pandas"
      ]
    },
    {
      "cell_type": "code",
      "execution_count": 2,
      "metadata": {
        "id": "E5fvvGrhxE3R"
      },
      "outputs": [],
      "source": [
        "# First we need to import the libraries we will be using\n",
        "import pandas as pd\n",
        "import requests\n",
        "from bs4 import BeautifulSoup\n",
        "from collections import Counter\n"
      ]
    },
    {
      "cell_type": "markdown",
      "metadata": {
        "id": "VuCxs4izFLQD"
      },
      "source": [
        "## Scraping the page\n",
        "\n",
        "First, we'll download the HTML which defines the page, using the requests module."
      ]
    },
    {
      "cell_type": "code",
      "execution_count": 3,
      "metadata": {
        "id": "bgwjVswX9hJe"
      },
      "outputs": [],
      "source": [
        "req = requests.get(\"https://www.economicsobservatory.com\") # Make a request to the ECO home-page\n",
        "page_html = req.text # store the HTML in page_html"
      ]
    },
    {
      "cell_type": "markdown",
      "metadata": {
        "id": "l_nGUpFyDYcj"
      },
      "source": [
        "Now we have the page's source stored in {{page_html}}. Next we're going to use a module called BeautifulSoup to turn this text into a representation of the page we can interact with. We'll store this in a variable called {{soup}}."
      ]
    },
    {
      "cell_type": "code",
      "execution_count": 4,
      "metadata": {
        "id": "4kTtbNFfDzXS"
      },
      "outputs": [],
      "source": [
        "soup = BeautifulSoup(page_html, 'html.parser') # Create a BeautifulSoup object to interact with the page's HTML"
      ]
    },
    {
      "cell_type": "markdown",
      "metadata": {
        "id": "9vGCAMSqGiS2"
      },
      "source": [
        "Now we'll look for article titles by searching for elements with the class \"home__blocks-item-title\" which we identified above.\n"
      ]
    },
    {
      "cell_type": "code",
      "execution_count": 5,
      "metadata": {
        "colab": {
          "base_uri": "https://localhost:8080/"
        },
        "id": "QJHYgoQSGiCM",
        "outputId": "456ddd44-ffd7-4433-ed1f-375101c3d421"
      },
      "outputs": [
        {
          "output_type": "execute_result",
          "data": {
            "text/plain": [
              "[<h3 class=\"home__blocks-item-title\">What is the state of the UK economy in early 2024?</h3>,\n",
              " <h3 class=\"home__blocks-item-title\">Ukraine: what’s the global economic impact of Russia’s invasion?</h3>,\n",
              " <h3 class=\"home__blocks-item-title\">Could a new policy institution help solve the UK’s productivity problem?</h3>,\n",
              " <h3 class=\"home__blocks-item-title\">What can the UK learn from the latest global data on pupil performance?</h3>,\n",
              " <h3 class=\"home__blocks-item-title\">What would be the effects of abolishing or reforming inheritance tax?</h3>,\n",
              " <h3 class=\"home__blocks-item-title\">Read the latest edition of our magazine here</h3>,\n",
              " <h3 class=\"home__blocks-item-title\">How much revenue might be raised by a one-off wealth tax?</h3>,\n",
              " <h3 class=\"home__blocks-item-title\">Update: How did personality affect mental health during the pandemic?</h3>,\n",
              " <h3 class=\"home__blocks-item-title\" style=\"text-align: left;\">Components of UK Inflation</h3>,\n",
              " <h3 class=\"home__blocks-item-title\">How can we reduce gender gaps in mathematics education?</h3>,\n",
              " <h3 class=\"home__blocks-item-title\">How have minorities been treated by the UK’s judicial system?</h3>,\n",
              " <h3 class=\"home__blocks-item-title\">How are plastics harming marine ecosystems?</h3>,\n",
              " <h3 class=\"home__blocks-item-title\">How might house prices affect workers’ productivity in OECD economies?</h3>,\n",
              " <h3 class=\"home__blocks-item-title\">#studentviews: How can young doctors be discouraged from leaving the NHS?</h3>]"
            ]
          },
          "metadata": {},
          "execution_count": 5
        }
      ],
      "source": [
        "article_title_elements = soup.find_all(class_=\"home__blocks-item-title\") # Find all elements with the class \"home__blocks-item-title\"\n",
        "article_title_elements"
      ]
    },
    {
      "cell_type": "markdown",
      "metadata": {
        "id": "p6qut5nPcJM_"
      },
      "source": [
        "We now have a list of HTML tags containing titles but all we care about is the text within them."
      ]
    },
    {
      "cell_type": "code",
      "execution_count": 6,
      "metadata": {
        "id": "smVFX-DpcJNA",
        "outputId": "1878deb7-45a3-49c2-a0d5-a978e4b71564",
        "colab": {
          "base_uri": "https://localhost:8080/"
        }
      },
      "outputs": [
        {
          "output_type": "execute_result",
          "data": {
            "text/plain": [
              "['What is the state of the UK economy in early 2024?',\n",
              " 'Ukraine: what’s the global economic impact of Russia’s invasion?',\n",
              " 'Could a new policy institution help solve the UK’s productivity problem?',\n",
              " 'What can the UK learn from the latest global data on pupil performance?',\n",
              " 'What would be the effects of abolishing or reforming inheritance tax?',\n",
              " 'Read the latest edition of our magazine here',\n",
              " 'How much revenue might be raised by a one-off wealth tax?',\n",
              " 'Update: How did personality affect mental health during the pandemic?',\n",
              " 'Components of UK Inflation',\n",
              " 'How can we reduce gender gaps in mathematics education?',\n",
              " 'How have minorities been treated by the UK’s judicial system?',\n",
              " 'How are plastics harming marine ecosystems?',\n",
              " 'How might house prices affect workers’ productivity in OECD economies?',\n",
              " '#studentviews: How can young doctors be discouraged from leaving the NHS?']"
            ]
          },
          "metadata": {},
          "execution_count": 6
        }
      ],
      "source": [
        "\n",
        "article_titles = [element.text for element in article_title_elements] # Extract the text from each element\n",
        "article_titles"
      ]
    },
    {
      "cell_type": "markdown",
      "metadata": {
        "id": "dRohuhP0xE3U"
      },
      "source": [
        "We also care about the taglines/'teasers' of each article.\n",
        "\n",
        "These are contained in \\<spans\\> and \\<p\\> tags contained in divs with the class \"home__blocks-item-teaser display\""
      ]
    },
    {
      "cell_type": "code",
      "execution_count": 7,
      "metadata": {
        "colab": {
          "base_uri": "https://localhost:8080/"
        },
        "id": "2eyl2tnixE3U",
        "outputId": "474bc055-154f-4243-8a26-eabcbc405ce6"
      },
      "outputs": [
        {
          "output_type": "execute_result",
          "data": {
            "text/plain": [
              "['The Office for National Statistics recently released fresh data on the UK’s labour market, inflation and GDP. While trends in prices and wages have improved conditions for many households, the economy has contracted since early 2022. Prospects for renewed growth are positive but weak.',\n",
              " 'New data from the OECD reveal how teenagers around the world are doing at school. The results for the UK are above average – and there hasn’t been the same big drop in scores as in some other places. But there remain significant social concerns, with over one in ten children going hungry.',\n",
              " 'Inheritance taxes aim to raise revenue and reduce inequality of opportunity arising from differences in parental wealth. But current UK policy has little impact on social mobility. Scrapping the tax would benefit the wealthiest, while reforms could reduce unfairness and negative economic effects.',\n",
              " 'If the government decides to raise taxes after the pandemic, an alternative to taxes on work or spending could be a one-off wealth tax. A well-designed tax of this kind could raise significant revenue in a fair and efficient way without excessive administrative costs.',\n",
              " 'Different personality traits affected people’s responses to the lockdown and social restriction measures introduced during the pandemic – and how their mental health fared. Evidence from those times can help to inform more effective and tailored treatments to improve wellbeing.',\n",
              " 'Underperformance by girls and young women in mathematics relative to their male peers is a loss of talent that may hinder productivity growth. New developments in our understanding of how gender stereotypes originate and evolve can help us to reduce gender differences in achievement.',\n",
              " 'Disparate treatment of minorities by the judicial system is not a construct of modern institutions. Irish defendants and victims faced harsher treatment and outcomes at London’s Old Bailey in the 19th century. Lessons from this period can help to inform criminal justice policy today.',\n",
              " 'Higher house prices may be partly to blame for the sluggish growth of labour productivity in the OECD countries in recent decades. The adverse impact seems to be less severe in more complex economies – those that produce a greater diversity of products based on specialised know-how.',\n",
              " 'With many junior doctors leaving the NHS workforce to pursue careers elsewhere, staff shortages look likely to worsen over the coming months. Short of meeting unions’ wage demands, improvements in working conditions could make some contribution to addressing this challenge.']"
            ]
          },
          "metadata": {},
          "execution_count": 7
        }
      ],
      "source": [
        "# find all divs with the class \"home__blocks-item-teaser display\"\n",
        "tagline_divs = soup.find_all(class_=\"home__blocks-item-teaser display\")\n",
        "# get all the <p> tags from the tagline_divs\n",
        "taglines = [div.find(\"p\") for div in tagline_divs]\n",
        "# extract the text from each tag\n",
        "tagline_texts = [tagline.text for tagline in taglines]\n",
        "tagline_texts"
      ]
    },
    {
      "cell_type": "markdown",
      "metadata": {
        "id": "_Dvhz5-NG5O0"
      },
      "source": [
        "And where from here?\n",
        "We now have a list of articles, how could this be useful?\n",
        "\n",
        "- **Automated News Roundups**: you could write code to collect news titles each day to produce a daily roundup\n",
        "- **Sentiment Analysis**: If you scale up the data collection, you could perform [sentiment analysis](https://en.wikipedia.org/wiki/Sentiment_analysis) to learn about the emotional valience of news stories.\n",
        "\n",
        "### Making a Chart: Term Frequencies\n",
        "\n",
        "Today, we can make a chart of term frequencies from the headlines. This will tell us about the topics covered by the website.\n",
        "\n",
        "To do this, we will:\n",
        "\n",
        "1. Define a list of common words to avoid (e.g. \"the\", \"how\", \"should\")\n",
        "2. Work out how many times each word appears, excluding the common words\n",
        "3. Save our data"
      ]
    },
    {
      "cell_type": "markdown",
      "metadata": {
        "id": "IqhgvmfTUkbg"
      },
      "source": [
        "#### 1: Make a long list of every word"
      ]
    },
    {
      "cell_type": "code",
      "execution_count": 8,
      "metadata": {
        "id": "Nfdvh-CEzti3"
      },
      "outputs": [],
      "source": [
        "word_list = [] # Create an empty list to store the words\n",
        "\n",
        "article_titles_and_taglines = article_titles+tagline_texts # Combine the article titles and taglines into one list\n",
        "\n",
        "for text in article_titles_and_taglines: # Loop through each article title and tagline\n",
        "  words_in_text = text.split() # Split the text into words so we can loop through each word\n",
        "  for word in words_in_text: # Loop through each word\n",
        "    lowercase_word = word.lower() # Convert the word to lowercase\n",
        "    word_excl_punc = lowercase_word.replace(\".\", \"\").replace(\",\", \"\").replace(\"?\",\"\") # Remove punctuation\n",
        "    word_list.append(word_excl_punc) # Add the word to the word_list\n",
        "\n"
      ]
    },
    {
      "cell_type": "markdown",
      "metadata": {
        "id": "OQ2bV7Z-0wmW"
      },
      "source": [
        "#### 2: Count how many times each word appears\n",
        "For this we'll use Counters, which take a list and return an object showing how many times each item appears"
      ]
    },
    {
      "cell_type": "code",
      "execution_count": null,
      "metadata": {
        "colab": {
          "base_uri": "https://localhost:8080/"
        },
        "id": "F9ilrpNN0vtr",
        "outputId": "6d24163b-d091-46e1-c51c-437520015ffd"
      },
      "outputs": [
        {
          "data": {
            "text/plain": [
              "Counter({'what': 3,\n",
              "         'is': 3,\n",
              "         'the': 32,\n",
              "         'state': 1,\n",
              "         'of': 13,\n",
              "         'uk': 4,\n",
              "         'economy': 2,\n",
              "         'in': 17,\n",
              "         'early': 2,\n",
              "         '2024': 1,\n",
              "         'ukraine:': 1,\n",
              "         'what’s': 1,\n",
              "         'global': 2,\n",
              "         'economic': 2,\n",
              "         'impact': 3,\n",
              "         'russia’s': 1,\n",
              "         'invasion': 1,\n",
              "         'could': 5,\n",
              "         'a': 8,\n",
              "         'new': 3,\n",
              "         'policy': 3,\n",
              "         'institution': 1,\n",
              "         'help': 4,\n",
              "         'solve': 1,\n",
              "         'uk’s': 3,\n",
              "         'productivity': 4,\n",
              "         'problem': 1,\n",
              "         'can': 6,\n",
              "         'learn': 1,\n",
              "         'from': 6,\n",
              "         'latest': 2,\n",
              "         'data': 3,\n",
              "         'on': 5,\n",
              "         'pupil': 1,\n",
              "         'performance': 1,\n",
              "         'would': 2,\n",
              "         'be': 6,\n",
              "         'effects': 2,\n",
              "         'abolishing': 1,\n",
              "         'or': 2,\n",
              "         'reforming': 1,\n",
              "         'inheritance': 2,\n",
              "         'tax': 5,\n",
              "         'read': 1,\n",
              "         'edition': 1,\n",
              "         'our': 2,\n",
              "         'magazine': 1,\n",
              "         'here': 1,\n",
              "         'how': 10,\n",
              "         'much': 1,\n",
              "         'revenue': 3,\n",
              "         'might': 2,\n",
              "         'raised': 1,\n",
              "         'by': 4,\n",
              "         'one-off': 2,\n",
              "         'wealth': 3,\n",
              "         'update:': 1,\n",
              "         'did': 1,\n",
              "         'personality': 2,\n",
              "         'affect': 2,\n",
              "         'mental': 2,\n",
              "         'health': 2,\n",
              "         'during': 2,\n",
              "         'pandemic': 3,\n",
              "         'government': 2,\n",
              "         'investment': 1,\n",
              "         'we': 1,\n",
              "         'reduce': 4,\n",
              "         'gender': 3,\n",
              "         'gaps': 1,\n",
              "         'mathematics': 2,\n",
              "         'education': 1,\n",
              "         'have': 2,\n",
              "         'minorities': 2,\n",
              "         'been': 2,\n",
              "         'treated': 1,\n",
              "         'judicial': 2,\n",
              "         'system': 2,\n",
              "         'are': 4,\n",
              "         'plastics': 1,\n",
              "         'harming': 1,\n",
              "         'marine': 1,\n",
              "         'ecosystems': 1,\n",
              "         'house': 2,\n",
              "         'prices': 3,\n",
              "         'workers’': 1,\n",
              "         'oecd': 3,\n",
              "         'economies': 2,\n",
              "         '#studentviews:': 1,\n",
              "         'young': 2,\n",
              "         'doctors': 2,\n",
              "         'discouraged': 1,\n",
              "         'leaving': 2,\n",
              "         'nhs': 2,\n",
              "         'office': 1,\n",
              "         'for': 5,\n",
              "         'national': 1,\n",
              "         'statistics': 1,\n",
              "         'recently': 1,\n",
              "         'released': 1,\n",
              "         'fresh': 1,\n",
              "         'labour': 2,\n",
              "         'market': 1,\n",
              "         'inflation': 1,\n",
              "         'and': 13,\n",
              "         'gdp': 1,\n",
              "         'while': 2,\n",
              "         'trends': 1,\n",
              "         'wages': 1,\n",
              "         'improved': 1,\n",
              "         'conditions': 2,\n",
              "         'many': 2,\n",
              "         'households': 1,\n",
              "         'has': 2,\n",
              "         'contracted': 1,\n",
              "         'since': 1,\n",
              "         '2022': 1,\n",
              "         'prospects': 1,\n",
              "         'renewed': 1,\n",
              "         'growth': 3,\n",
              "         'positive': 1,\n",
              "         'but': 3,\n",
              "         'weak': 1,\n",
              "         'reveal': 1,\n",
              "         'teenagers': 1,\n",
              "         'around': 1,\n",
              "         'world': 1,\n",
              "         'doing': 1,\n",
              "         'at': 2,\n",
              "         'school': 1,\n",
              "         'results': 1,\n",
              "         'above': 1,\n",
              "         'average': 1,\n",
              "         '–': 3,\n",
              "         'there': 2,\n",
              "         'hasn’t': 1,\n",
              "         'same': 1,\n",
              "         'big': 1,\n",
              "         'drop': 1,\n",
              "         'scores': 1,\n",
              "         'as': 1,\n",
              "         'some': 2,\n",
              "         'other': 1,\n",
              "         'places': 1,\n",
              "         'remain': 1,\n",
              "         'significant': 2,\n",
              "         'social': 3,\n",
              "         'concerns': 1,\n",
              "         'with': 2,\n",
              "         'over': 2,\n",
              "         'one': 1,\n",
              "         'ten': 1,\n",
              "         'children': 1,\n",
              "         'going': 1,\n",
              "         'hungry': 1,\n",
              "         'taxes': 3,\n",
              "         'aim': 1,\n",
              "         'to': 14,\n",
              "         'raise': 3,\n",
              "         'inequality': 1,\n",
              "         'opportunity': 1,\n",
              "         'arising': 1,\n",
              "         'differences': 2,\n",
              "         'parental': 1,\n",
              "         'current': 1,\n",
              "         'little': 1,\n",
              "         'mobility': 1,\n",
              "         'scrapping': 1,\n",
              "         'benefit': 1,\n",
              "         'wealthiest': 1,\n",
              "         'reforms': 1,\n",
              "         'unfairness': 1,\n",
              "         'negative': 1,\n",
              "         'if': 1,\n",
              "         'decides': 1,\n",
              "         'after': 1,\n",
              "         'an': 1,\n",
              "         'alternative': 1,\n",
              "         'work': 1,\n",
              "         'spending': 1,\n",
              "         'well-designed': 1,\n",
              "         'this': 3,\n",
              "         'kind': 1,\n",
              "         'fair': 1,\n",
              "         'efficient': 1,\n",
              "         'way': 1,\n",
              "         'without': 1,\n",
              "         'excessive': 1,\n",
              "         'administrative': 1,\n",
              "         'costs': 1,\n",
              "         'different': 1,\n",
              "         'traits': 1,\n",
              "         'affected': 1,\n",
              "         'people’s': 1,\n",
              "         'responses': 1,\n",
              "         'lockdown': 1,\n",
              "         'restriction': 1,\n",
              "         'measures': 1,\n",
              "         'introduced': 1,\n",
              "         'their': 2,\n",
              "         'fared': 1,\n",
              "         'evidence': 1,\n",
              "         'those': 2,\n",
              "         'times': 1,\n",
              "         'inform': 2,\n",
              "         'more': 2,\n",
              "         'effective': 1,\n",
              "         'tailored': 1,\n",
              "         'treatments': 1,\n",
              "         'improve': 1,\n",
              "         'wellbeing': 1,\n",
              "         'underperformance': 1,\n",
              "         'girls': 1,\n",
              "         'women': 1,\n",
              "         'relative': 1,\n",
              "         'male': 1,\n",
              "         'peers': 1,\n",
              "         'loss': 1,\n",
              "         'talent': 1,\n",
              "         'that': 2,\n",
              "         'may': 2,\n",
              "         'hinder': 1,\n",
              "         'developments': 1,\n",
              "         'understanding': 1,\n",
              "         'stereotypes': 1,\n",
              "         'originate': 1,\n",
              "         'evolve': 1,\n",
              "         'us': 1,\n",
              "         'achievement': 1,\n",
              "         'disparate': 1,\n",
              "         'treatment': 2,\n",
              "         'not': 1,\n",
              "         'construct': 1,\n",
              "         'modern': 1,\n",
              "         'institutions': 1,\n",
              "         'irish': 1,\n",
              "         'defendants': 1,\n",
              "         'victims': 1,\n",
              "         'faced': 1,\n",
              "         'harsher': 1,\n",
              "         'outcomes': 1,\n",
              "         'london’s': 1,\n",
              "         'old': 1,\n",
              "         'bailey': 1,\n",
              "         '19th': 1,\n",
              "         'century': 1,\n",
              "         'lessons': 1,\n",
              "         'period': 1,\n",
              "         'criminal': 1,\n",
              "         'justice': 1,\n",
              "         'today': 1,\n",
              "         'higher': 1,\n",
              "         'partly': 1,\n",
              "         'blame': 1,\n",
              "         'sluggish': 1,\n",
              "         'countries': 1,\n",
              "         'recent': 1,\n",
              "         'decades': 1,\n",
              "         'adverse': 1,\n",
              "         'seems': 1,\n",
              "         'less': 1,\n",
              "         'severe': 1,\n",
              "         'complex': 1,\n",
              "         'produce': 1,\n",
              "         'greater': 1,\n",
              "         'diversity': 1,\n",
              "         'products': 1,\n",
              "         'based': 1,\n",
              "         'specialised': 1,\n",
              "         'know-how': 1,\n",
              "         'junior': 1,\n",
              "         'workforce': 1,\n",
              "         'pursue': 1,\n",
              "         'careers': 1,\n",
              "         'elsewhere': 1,\n",
              "         'staff': 1,\n",
              "         'shortages': 1,\n",
              "         'look': 1,\n",
              "         'likely': 1,\n",
              "         'worsen': 1,\n",
              "         'coming': 1,\n",
              "         'months': 1,\n",
              "         'short': 1,\n",
              "         'meeting': 1,\n",
              "         'unions’': 1,\n",
              "         'wage': 1,\n",
              "         'demands': 1,\n",
              "         'improvements': 1,\n",
              "         'working': 1,\n",
              "         'make': 1,\n",
              "         'contribution': 1,\n",
              "         'addressing': 1,\n",
              "         'challenge': 1})"
            ]
          },
          "execution_count": 10,
          "metadata": {},
          "output_type": "execute_result"
        }
      ],
      "source": [
        "word_counter = Counter(word_list)\n",
        "\n",
        "word_counter"
      ]
    },
    {
      "cell_type": "markdown",
      "metadata": {
        "id": "sDzEnkQR2NvH"
      },
      "source": [
        "#### 3: Making a table\n",
        "\n",
        "We now have a counter showing word frequencies. Using **Pandas**, we can turn this into a more useful table."
      ]
    },
    {
      "cell_type": "code",
      "execution_count": null,
      "metadata": {
        "id": "0m3JOUy_2a-A",
        "outputId": "70675f78-fd00-486c-f648-d9f8cd8576e7"
      },
      "outputs": [
        {
          "data": {
            "text/html": [
              "<div>\n",
              "<style scoped>\n",
              "    .dataframe tbody tr th:only-of-type {\n",
              "        vertical-align: middle;\n",
              "    }\n",
              "\n",
              "    .dataframe tbody tr th {\n",
              "        vertical-align: top;\n",
              "    }\n",
              "\n",
              "    .dataframe thead th {\n",
              "        text-align: right;\n",
              "    }\n",
              "</style>\n",
              "<table border=\"1\" class=\"dataframe\">\n",
              "  <thead>\n",
              "    <tr style=\"text-align: right;\">\n",
              "      <th></th>\n",
              "      <th>word</th>\n",
              "      <th>count</th>\n",
              "    </tr>\n",
              "  </thead>\n",
              "  <tbody>\n",
              "    <tr>\n",
              "      <th>2</th>\n",
              "      <td>the</td>\n",
              "      <td>32</td>\n",
              "    </tr>\n",
              "    <tr>\n",
              "      <th>7</th>\n",
              "      <td>in</td>\n",
              "      <td>17</td>\n",
              "    </tr>\n",
              "    <tr>\n",
              "      <th>157</th>\n",
              "      <td>to</td>\n",
              "      <td>14</td>\n",
              "    </tr>\n",
              "    <tr>\n",
              "      <th>104</th>\n",
              "      <td>and</td>\n",
              "      <td>13</td>\n",
              "    </tr>\n",
              "    <tr>\n",
              "      <th>4</th>\n",
              "      <td>of</td>\n",
              "      <td>13</td>\n",
              "    </tr>\n",
              "    <tr>\n",
              "      <th>...</th>\n",
              "      <td>...</td>\n",
              "      <td>...</td>\n",
              "    </tr>\n",
              "    <tr>\n",
              "      <th>151</th>\n",
              "      <td>ten</td>\n",
              "      <td>1</td>\n",
              "    </tr>\n",
              "    <tr>\n",
              "      <th>152</th>\n",
              "      <td>children</td>\n",
              "      <td>1</td>\n",
              "    </tr>\n",
              "    <tr>\n",
              "      <th>153</th>\n",
              "      <td>going</td>\n",
              "      <td>1</td>\n",
              "    </tr>\n",
              "    <tr>\n",
              "      <th>154</th>\n",
              "      <td>hungry</td>\n",
              "      <td>1</td>\n",
              "    </tr>\n",
              "    <tr>\n",
              "      <th>292</th>\n",
              "      <td>challenge</td>\n",
              "      <td>1</td>\n",
              "    </tr>\n",
              "  </tbody>\n",
              "</table>\n",
              "<p>293 rows × 2 columns</p>\n",
              "</div>"
            ],
            "text/plain": [
              "          word  count\n",
              "2          the     32\n",
              "7           in     17\n",
              "157         to     14\n",
              "104        and     13\n",
              "4           of     13\n",
              "..         ...    ...\n",
              "151        ten      1\n",
              "152   children      1\n",
              "153      going      1\n",
              "154     hungry      1\n",
              "292  challenge      1\n",
              "\n",
              "[293 rows x 2 columns]"
            ]
          },
          "execution_count": 11,
          "metadata": {},
          "output_type": "execute_result"
        }
      ],
      "source": [
        "df = pd.DataFrame(word_counter.items(), columns=[\"word\", \"count\"])\n",
        "\n",
        "sorted_df = df.sort_values(by=\"count\", ascending=False)\n",
        "\n",
        "sorted_df"
      ]
    },
    {
      "cell_type": "markdown",
      "metadata": {
        "id": "hS5i_rR_1iiL"
      },
      "source": [
        "#### 4: Filter out Common words\n",
        "\n",
        "The most common words in our word_counter are common words: \"the\", \"to\", \"a\", etc.\n",
        "\n",
        "We should filter these out so we can learn more about the articles.\n",
        "\n",
        "Thankfully, lots of lists of common words exist already. We'll download a common word list and only keep the word that do not appear in it."
      ]
    },
    {
      "cell_type": "code",
      "execution_count": null,
      "metadata": {
        "id": "5CdmZoXVcJNA",
        "outputId": "f808e8d8-507c-48a8-bc3d-a5565e269084"
      },
      "outputs": [
        {
          "data": {
            "text/html": [
              "<div>\n",
              "<style scoped>\n",
              "    .dataframe tbody tr th:only-of-type {\n",
              "        vertical-align: middle;\n",
              "    }\n",
              "\n",
              "    .dataframe tbody tr th {\n",
              "        vertical-align: top;\n",
              "    }\n",
              "\n",
              "    .dataframe thead th {\n",
              "        text-align: right;\n",
              "    }\n",
              "</style>\n",
              "<table border=\"1\" class=\"dataframe\">\n",
              "  <thead>\n",
              "    <tr style=\"text-align: right;\">\n",
              "      <th></th>\n",
              "      <th>word</th>\n",
              "      <th>count</th>\n",
              "    </tr>\n",
              "  </thead>\n",
              "  <tbody>\n",
              "    <tr>\n",
              "      <th>42</th>\n",
              "      <td>tax</td>\n",
              "      <td>5</td>\n",
              "    </tr>\n",
              "    <tr>\n",
              "      <th>5</th>\n",
              "      <td>uk</td>\n",
              "      <td>4</td>\n",
              "    </tr>\n",
              "    <tr>\n",
              "      <th>67</th>\n",
              "      <td>reduce</td>\n",
              "      <td>4</td>\n",
              "    </tr>\n",
              "    <tr>\n",
              "      <th>25</th>\n",
              "      <td>productivity</td>\n",
              "      <td>4</td>\n",
              "    </tr>\n",
              "    <tr>\n",
              "      <th>119</th>\n",
              "      <td>growth</td>\n",
              "      <td>3</td>\n",
              "    </tr>\n",
              "    <tr>\n",
              "      <th>...</th>\n",
              "      <td>...</td>\n",
              "      <td>...</td>\n",
              "    </tr>\n",
              "    <tr>\n",
              "      <th>147</th>\n",
              "      <td>concerns</td>\n",
              "      <td>1</td>\n",
              "    </tr>\n",
              "    <tr>\n",
              "      <th>151</th>\n",
              "      <td>ten</td>\n",
              "      <td>1</td>\n",
              "    </tr>\n",
              "    <tr>\n",
              "      <th>152</th>\n",
              "      <td>children</td>\n",
              "      <td>1</td>\n",
              "    </tr>\n",
              "    <tr>\n",
              "      <th>154</th>\n",
              "      <td>hungry</td>\n",
              "      <td>1</td>\n",
              "    </tr>\n",
              "    <tr>\n",
              "      <th>292</th>\n",
              "      <td>challenge</td>\n",
              "      <td>1</td>\n",
              "    </tr>\n",
              "  </tbody>\n",
              "</table>\n",
              "<p>224 rows × 2 columns</p>\n",
              "</div>"
            ],
            "text/plain": [
              "             word  count\n",
              "42            tax      5\n",
              "5              uk      4\n",
              "67         reduce      4\n",
              "25   productivity      4\n",
              "119        growth      3\n",
              "..            ...    ...\n",
              "147      concerns      1\n",
              "151           ten      1\n",
              "152      children      1\n",
              "154        hungry      1\n",
              "292     challenge      1\n",
              "\n",
              "[224 rows x 2 columns]"
            ]
          },
          "execution_count": 12,
          "metadata": {},
          "output_type": "execute_result"
        }
      ],
      "source": [
        "common_words = requests.get(\"https://raw.githubusercontent.com/6/stopwords-json/master/dist/en.json\").json()\n",
        "\n",
        "df_excl_common = sorted_df.query(\"word not in @common_words\")\n",
        "\n",
        "df_excl_common"
      ]
    },
    {
      "cell_type": "markdown",
      "metadata": {
        "id": "cKQgZrddcJNB"
      },
      "source": [
        "#### Saving Our Data\n",
        "\n",
        "We now have a table of how often words appear in Economics Observatory headlines and taglines.\n",
        "Let's keep the words that appear more than twice and save the table."
      ]
    },
    {
      "cell_type": "code",
      "execution_count": null,
      "metadata": {
        "id": "_cvxds2NcJNB",
        "outputId": "991ef176-9825-4a9a-963f-3a36f50834f8"
      },
      "outputs": [
        {
          "data": {
            "text/html": [
              "<div>\n",
              "<style scoped>\n",
              "    .dataframe tbody tr th:only-of-type {\n",
              "        vertical-align: middle;\n",
              "    }\n",
              "\n",
              "    .dataframe tbody tr th {\n",
              "        vertical-align: top;\n",
              "    }\n",
              "\n",
              "    .dataframe thead th {\n",
              "        text-align: right;\n",
              "    }\n",
              "</style>\n",
              "<table border=\"1\" class=\"dataframe\">\n",
              "  <thead>\n",
              "    <tr style=\"text-align: right;\">\n",
              "      <th></th>\n",
              "      <th>word</th>\n",
              "      <th>count</th>\n",
              "    </tr>\n",
              "  </thead>\n",
              "  <tbody>\n",
              "    <tr>\n",
              "      <th>9</th>\n",
              "      <td>productivity</td>\n",
              "      <td>6</td>\n",
              "    </tr>\n",
              "    <tr>\n",
              "      <th>99</th>\n",
              "      <td>growth</td>\n",
              "      <td>4</td>\n",
              "    </tr>\n",
              "    <tr>\n",
              "      <th>30</th>\n",
              "      <td>tax</td>\n",
              "      <td>4</td>\n",
              "    </tr>\n",
              "    <tr>\n",
              "      <th>58</th>\n",
              "      <td>gender</td>\n",
              "      <td>3</td>\n",
              "    </tr>\n",
              "    <tr>\n",
              "      <th>13</th>\n",
              "      <td>uk</td>\n",
              "      <td>3</td>\n",
              "    </tr>\n",
              "    <tr>\n",
              "      <th>32</th>\n",
              "      <td>work</td>\n",
              "      <td>3</td>\n",
              "    </tr>\n",
              "    <tr>\n",
              "      <th>89</th>\n",
              "      <td>past</td>\n",
              "      <td>3</td>\n",
              "    </tr>\n",
              "    <tr>\n",
              "      <th>54</th>\n",
              "      <td>labour</td>\n",
              "      <td>3</td>\n",
              "    </tr>\n",
              "  </tbody>\n",
              "</table>\n",
              "</div>"
            ],
            "text/plain": [
              "            word  count\n",
              "9   productivity      6\n",
              "99        growth      4\n",
              "30           tax      4\n",
              "58        gender      3\n",
              "13            uk      3\n",
              "32          work      3\n",
              "89          past      3\n",
              "54        labour      3"
            ]
          },
          "execution_count": 33,
          "metadata": {},
          "output_type": "execute_result"
        }
      ],
      "source": [
        "more_than_twice_df = df_excl_common.query(\"count >2\")\n",
        "more_than_twice_df.to_csv(\"eco_words.csv\", index=False)\n",
        "\n",
        "more_than_twice_df"
      ]
    }
  ],
  "metadata": {
    "colab": {
      "provenance": [],
      "toc_visible": true
    },
    "kernelspec": {
      "display_name": "base",
      "language": "python",
      "name": "python3"
    },
    "language_info": {
      "codemirror_mode": {
        "name": "ipython",
        "version": 3
      },
      "file_extension": ".py",
      "mimetype": "text/x-python",
      "name": "python",
      "nbconvert_exporter": "python",
      "pygments_lexer": "ipython3",
      "version": "3.11.4"
    }
  },
  "nbformat": 4,
  "nbformat_minor": 0
}